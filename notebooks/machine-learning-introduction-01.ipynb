{
 "cells": [
  {
   "cell_type": "markdown",
   "id": "b017555a",
   "metadata": {},
   "source": [
    "## A. Regression\n",
    "\n",
    "*Machine Learning* creates a *model* that captures the relationship between *feature vectors* and some *target variables* within a *training dataset*.\n",
    "A feature vector is a set of features or attributes that characterize a particular object (e.g. the number of bedrooms, bathrooms, and location of an apartment).\n",
    "If the target is a numeric value, we're building a *regressor*.\n",
    "Regressors are fitting curves to data.\n",
    "\n",
    "<p>\n",
    "    <img src=\"https://mlbook.explained.ai/images/intro/fitpiecewise.svg\" width = 300 height = 300>\n",
    "</p>"
   ]
  },
  {
   "cell_type": "markdown",
   "id": "3705a491",
   "metadata": {},
   "source": [
    "### A.1. Importing Data\n",
    "\n",
    "We are using `pandas` library to load the data into memory.\n",
    "Our goal is to predict the price of an apartment based on the number of bedrooms, bathrooms, longitude and latitude."
   ]
  },
  {
   "cell_type": "code",
   "execution_count": 1,
   "id": "5a4f8d0d",
   "metadata": {},
   "outputs": [],
   "source": [
    "import numpy  as np             # import numpy library (importing with alias np)\n",
    "import pandas as pd             # import pandas library (importing with alias pd)\n",
    "import matplotlib.pyplot as plt # import matplotlib library (importing with alias plt)"
   ]
  },
  {
   "cell_type": "code",
   "execution_count": 2,
   "id": "88750b61",
   "metadata": {},
   "outputs": [],
   "source": [
    "plt.style.use('ggplot')  # use ggplot styles for matplotlib figures\n",
    "\n",
    "color_palette = {\n",
    "     'crimson': '#a50026', \n",
    "     'red': '#d73027',\n",
    "     'redorange': '#f46d43', \n",
    "     'orange': '#fdae61',\n",
    "     'yellow': '#fee090', \n",
    "     'sky': '#e0f3f8',\n",
    "     'babyblue': '#abd9e9', \n",
    "     'lightblue': '#74add1',\n",
    "     'blue': '#4575b4', \n",
    "     'purple': '#313695'\n",
    "}"
   ]
  },
  {
   "cell_type": "code",
   "execution_count": 3,
   "id": "0ca8c8c7",
   "metadata": {},
   "outputs": [],
   "source": [
    "PATH = '../data/rent.csv'"
   ]
  },
  {
   "cell_type": "code",
   "execution_count": 4,
   "id": "ab69ca33",
   "metadata": {},
   "outputs": [
    {
     "name": "stdout",
     "output_type": "stream",
     "text": [
      "breast_cancer.csv  rent.csv\n",
      "48301 ../data/rent.csv\n",
      "1,3M\t../data/rent.csv\n"
     ]
    }
   ],
   "source": [
    "!ls '../data'  # to execute bash command in the notebook we are using '!' mark\n",
    "!wc -l {PATH}  # we can even use python variables but we need '{' '}' braces\n",
    "!du -h {PATH}"
   ]
  },
  {
   "cell_type": "code",
   "execution_count": 5,
   "id": "4d9dd26f",
   "metadata": {},
   "outputs": [
    {
     "data": {
      "text/html": [
       "<div>\n",
       "<style scoped>\n",
       "    .dataframe tbody tr th:only-of-type {\n",
       "        vertical-align: middle;\n",
       "    }\n",
       "\n",
       "    .dataframe tbody tr th {\n",
       "        vertical-align: top;\n",
       "    }\n",
       "\n",
       "    .dataframe thead th {\n",
       "        text-align: right;\n",
       "    }\n",
       "</style>\n",
       "<table border=\"1\" class=\"dataframe\">\n",
       "  <thead>\n",
       "    <tr style=\"text-align: right;\">\n",
       "      <th></th>\n",
       "      <th>bedrooms</th>\n",
       "      <th>bathrooms</th>\n",
       "      <th>latitude</th>\n",
       "      <th>longitude</th>\n",
       "      <th>price</th>\n",
       "    </tr>\n",
       "  </thead>\n",
       "  <tbody>\n",
       "    <tr>\n",
       "      <th>0</th>\n",
       "      <td>1</td>\n",
       "      <td>1.0</td>\n",
       "      <td>40.7108</td>\n",
       "      <td>-73.9539</td>\n",
       "      <td>2400</td>\n",
       "    </tr>\n",
       "    <tr>\n",
       "      <th>1</th>\n",
       "      <td>2</td>\n",
       "      <td>1.0</td>\n",
       "      <td>40.7513</td>\n",
       "      <td>-73.9722</td>\n",
       "      <td>3800</td>\n",
       "    </tr>\n",
       "    <tr>\n",
       "      <th>2</th>\n",
       "      <td>2</td>\n",
       "      <td>1.0</td>\n",
       "      <td>40.7575</td>\n",
       "      <td>-73.9625</td>\n",
       "      <td>3495</td>\n",
       "    </tr>\n",
       "    <tr>\n",
       "      <th>3</th>\n",
       "      <td>3</td>\n",
       "      <td>1.5</td>\n",
       "      <td>40.7145</td>\n",
       "      <td>-73.9425</td>\n",
       "      <td>3000</td>\n",
       "    </tr>\n",
       "    <tr>\n",
       "      <th>4</th>\n",
       "      <td>0</td>\n",
       "      <td>1.0</td>\n",
       "      <td>40.7439</td>\n",
       "      <td>-73.9743</td>\n",
       "      <td>2795</td>\n",
       "    </tr>\n",
       "    <tr>\n",
       "      <th>...</th>\n",
       "      <td>...</td>\n",
       "      <td>...</td>\n",
       "      <td>...</td>\n",
       "      <td>...</td>\n",
       "      <td>...</td>\n",
       "    </tr>\n",
       "    <tr>\n",
       "      <th>48295</th>\n",
       "      <td>3</td>\n",
       "      <td>1.0</td>\n",
       "      <td>40.8433</td>\n",
       "      <td>-73.9396</td>\n",
       "      <td>2800</td>\n",
       "    </tr>\n",
       "    <tr>\n",
       "      <th>48296</th>\n",
       "      <td>2</td>\n",
       "      <td>1.0</td>\n",
       "      <td>40.8198</td>\n",
       "      <td>-73.9578</td>\n",
       "      <td>2395</td>\n",
       "    </tr>\n",
       "    <tr>\n",
       "      <th>48297</th>\n",
       "      <td>1</td>\n",
       "      <td>1.0</td>\n",
       "      <td>40.5765</td>\n",
       "      <td>-73.9554</td>\n",
       "      <td>1850</td>\n",
       "    </tr>\n",
       "    <tr>\n",
       "      <th>48298</th>\n",
       "      <td>2</td>\n",
       "      <td>1.0</td>\n",
       "      <td>40.7448</td>\n",
       "      <td>-74.0017</td>\n",
       "      <td>4195</td>\n",
       "    </tr>\n",
       "    <tr>\n",
       "      <th>48299</th>\n",
       "      <td>3</td>\n",
       "      <td>1.0</td>\n",
       "      <td>40.7594</td>\n",
       "      <td>-73.9712</td>\n",
       "      <td>4280</td>\n",
       "    </tr>\n",
       "  </tbody>\n",
       "</table>\n",
       "<p>48300 rows × 5 columns</p>\n",
       "</div>"
      ],
      "text/plain": [
       "       bedrooms  bathrooms  latitude  longitude  price\n",
       "0             1        1.0   40.7108   -73.9539   2400\n",
       "1             2        1.0   40.7513   -73.9722   3800\n",
       "2             2        1.0   40.7575   -73.9625   3495\n",
       "3             3        1.5   40.7145   -73.9425   3000\n",
       "4             0        1.0   40.7439   -73.9743   2795\n",
       "...         ...        ...       ...        ...    ...\n",
       "48295         3        1.0   40.8433   -73.9396   2800\n",
       "48296         2        1.0   40.8198   -73.9578   2395\n",
       "48297         1        1.0   40.5765   -73.9554   1850\n",
       "48298         2        1.0   40.7448   -74.0017   4195\n",
       "48299         3        1.0   40.7594   -73.9712   4280\n",
       "\n",
       "[48300 rows x 5 columns]"
      ]
     },
     "execution_count": 5,
     "metadata": {},
     "output_type": "execute_result"
    }
   ],
   "source": [
    "data = pd.read_csv(filepath_or_buffer = PATH) # load the data into the data frame using read_csv pandas function\n",
    "data"
   ]
  },
  {
   "cell_type": "markdown",
   "id": "5cd85145",
   "metadata": {},
   "source": [
    "Pandas' dataframe is a 2D structure that consists of rows and columns.\n",
    "We can utilize number of attributes and methods to inspect and manipulate with this powerful data structure."
   ]
  },
  {
   "cell_type": "code",
   "execution_count": 6,
   "id": "36ab9a7d",
   "metadata": {},
   "outputs": [
    {
     "name": "stdout",
     "output_type": "stream",
     "text": [
      "The dataset data type is <class 'pandas.core.frame.DataFrame'>\n",
      "The dataset has 48300 rows and 5 columns\n",
      "The dataset contains 241500 values (rows x columns)\n",
      "The data frame index is RangeIndex(start=0, stop=48300, step=1)\n",
      "The data frame columns are Index(['bedrooms', 'bathrooms', 'latitude', 'longitude', 'price'], dtype='object')\n"
     ]
    }
   ],
   "source": [
    "print(f'The dataset data type is {type(data)}')\n",
    "print(f'The dataset has {data.shape[0]} rows and {data.shape[1]} columns')\n",
    "print(f'The dataset contains {data.size} values (rows x columns)')\n",
    "print(f'The data frame index is {data.index}')\n",
    "print(f'The data frame columns are {data.columns}')"
   ]
  },
  {
   "cell_type": "code",
   "execution_count": 7,
   "id": "7a995b1e",
   "metadata": {},
   "outputs": [
    {
     "name": "stdout",
     "output_type": "stream",
     "text": [
      "<class 'pandas.core.frame.DataFrame'>\n",
      "RangeIndex: 48300 entries, 0 to 48299\n",
      "Data columns (total 5 columns):\n",
      " #   Column     Non-Null Count  Dtype  \n",
      "---  ------     --------------  -----  \n",
      " 0   bedrooms   48300 non-null  int64  \n",
      " 1   bathrooms  48300 non-null  float64\n",
      " 2   latitude   48300 non-null  float64\n",
      " 3   longitude  48300 non-null  float64\n",
      " 4   price      48300 non-null  int64  \n",
      "dtypes: float64(3), int64(2)\n",
      "memory usage: 1.8 MB\n"
     ]
    },
    {
     "data": {
      "text/plain": [
       "Index        0.000122\n",
       "bedrooms     0.368500\n",
       "bathrooms    0.368500\n",
       "latitude     0.368500\n",
       "longitude    0.368500\n",
       "price        0.368500\n",
       "dtype: float64"
      ]
     },
     "metadata": {},
     "output_type": "display_data"
    },
    {
     "name": "stdout",
     "output_type": "stream",
     "text": [
      "Total memory used: 1.84 MB\n"
     ]
    }
   ],
   "source": [
    "memory_series = data.memory_usage(deep = True) / (1024*1024) # show memory usage in MB\n",
    "\n",
    "data.info()\n",
    "display(memory_series)\n",
    "print(f'Total memory used: {memory_series.sum():.2f} MB')"
   ]
  },
  {
   "cell_type": "code",
   "execution_count": 8,
   "id": "c74c1b8f",
   "metadata": {},
   "outputs": [
    {
     "name": "stdout",
     "output_type": "stream",
     "text": [
      "Price column data type is <class 'pandas.core.series.Series'>\n",
      "Price column size is 48300\n",
      "Price column shape is (48300,), number of dimensions is 1, size in bytes is 386400\n",
      "Price column index is RangeIndex(start=0, stop=48300, step=1)\n",
      "Average apartment price is 3438.30$\n"
     ]
    }
   ],
   "source": [
    "price = data['price']\n",
    "\n",
    "print(f'Price column data type is {type(price)}')\n",
    "print(f'Price column size is {price.size}')\n",
    "print(f'Price column shape is {price.shape}, number of dimensions is {price.ndim}, size in bytes is {price.nbytes}')\n",
    "print(f'Price column index is {price.index}')\n",
    "print(f'Average apartment price is {price.mean():.2f}$')"
   ]
  },
  {
   "cell_type": "markdown",
   "id": "fb696379",
   "metadata": {},
   "source": [
    "Let's see how number of bedrooms affects the price trend. \n",
    "Additionally, we can see the examples of manipulation with data frames and using `matplotlib` library to visualise the data."
   ]
  },
  {
   "cell_type": "code",
   "execution_count": 9,
   "id": "85ba9fd1",
   "metadata": {},
   "outputs": [
    {
     "data": {
      "text/html": [
       "<div>\n",
       "<style scoped>\n",
       "    .dataframe tbody tr th:only-of-type {\n",
       "        vertical-align: middle;\n",
       "    }\n",
       "\n",
       "    .dataframe tbody tr th {\n",
       "        vertical-align: top;\n",
       "    }\n",
       "\n",
       "    .dataframe thead th {\n",
       "        text-align: right;\n",
       "    }\n",
       "</style>\n",
       "<table border=\"1\" class=\"dataframe\">\n",
       "  <thead>\n",
       "    <tr style=\"text-align: right;\">\n",
       "      <th></th>\n",
       "      <th>0</th>\n",
       "      <th>1</th>\n",
       "      <th>2</th>\n",
       "      <th>3</th>\n",
       "      <th>4</th>\n",
       "      <th>5</th>\n",
       "      <th>6</th>\n",
       "      <th>7</th>\n",
       "      <th>8</th>\n",
       "      <th>9</th>\n",
       "    </tr>\n",
       "  </thead>\n",
       "  <tbody>\n",
       "    <tr>\n",
       "      <th>bathrooms</th>\n",
       "      <td>0.00</td>\n",
       "      <td>1.000000</td>\n",
       "      <td>1.500000</td>\n",
       "      <td>2.000000</td>\n",
       "      <td>2.500000</td>\n",
       "      <td>3.000000</td>\n",
       "      <td>3.500000</td>\n",
       "      <td>4.000000</td>\n",
       "      <td>4.5</td>\n",
       "      <td>10.0</td>\n",
       "    </tr>\n",
       "    <tr>\n",
       "      <th>price</th>\n",
       "      <td>3144.87</td>\n",
       "      <td>3027.007118</td>\n",
       "      <td>4226.336449</td>\n",
       "      <td>5278.595739</td>\n",
       "      <td>6869.047368</td>\n",
       "      <td>6897.974576</td>\n",
       "      <td>7635.357143</td>\n",
       "      <td>7422.888889</td>\n",
       "      <td>2050.0</td>\n",
       "      <td>3600.0</td>\n",
       "    </tr>\n",
       "  </tbody>\n",
       "</table>\n",
       "</div>"
      ],
      "text/plain": [
       "                 0            1            2            3            4  \\\n",
       "bathrooms     0.00     1.000000     1.500000     2.000000     2.500000   \n",
       "price      3144.87  3027.007118  4226.336449  5278.595739  6869.047368   \n",
       "\n",
       "                     5            6            7       8       9  \n",
       "bathrooms     3.000000     3.500000     4.000000     4.5    10.0  \n",
       "price      6897.974576  7635.357143  7422.888889  2050.0  3600.0  "
      ]
     },
     "metadata": {},
     "output_type": "display_data"
    },
    {
     "data": {
      "image/png": "[encoded data removed]",
      "text/plain": [
       "<Figure size 1080x504 with 1 Axes>"
      ]
     },
     "metadata": {},
     "output_type": "display_data"
    }
   ],
   "source": [
    "group_by_bathrooms = data.groupby(['bathrooms']).mean()\n",
    "group_by_bathrooms = group_by_bathrooms.reset_index()\n",
    "group_by_bathrooms = group_by_bathrooms.drop(['bedrooms', 'longitude', 'latitude'], axis = 1)\n",
    "\n",
    "display(group_by_bathrooms.transpose())\n",
    "\n",
    "figure, axes = plt.subplots(figsize = (15, 7))\n",
    "axes.scatter(group_by_bathrooms['bathrooms'].values, group_by_bathrooms['price'].values, color = color_palette['blue'])\n",
    "axes.plot(group_by_bathrooms['bathrooms'].values, group_by_bathrooms['price'].values, color = color_palette['orange'])\n",
    "\n",
    "axes.set_xlabel('Number of bathrooms', fontdict = {'fontsize': 13})\n",
    "axes.set_ylabel('Average rent price of the apartment in dolars', fontdict = {'fontsize': 13})\n",
    "axes.set_xticks(np.arange(start = 0, stop = 11, step = 0.5))\n",
    "\n",
    "plt.show()"
   ]
  },
  {
   "cell_type": "markdown",
   "id": "2062a193",
   "metadata": {},
   "source": [
    "### A.2. Training Linear Regression Model\n",
    "\n",
    "In this section we use `sklearn` library to train and assess the linear regression model."
   ]
  },
  {
   "cell_type": "code",
   "execution_count": 10,
   "id": "67489f44",
   "metadata": {},
   "outputs": [],
   "source": [
    "from sklearn.linear_model import LinearRegression\n",
    "from sklearn.model_selection import train_test_split\n",
    "from sklearn.metrics import r2_score, mean_absolute_error"
   ]
  },
  {
   "cell_type": "code",
   "execution_count": 11,
   "id": "6e78b688",
   "metadata": {},
   "outputs": [
    {
     "name": "stdout",
     "output_type": "stream",
     "text": [
      "Dataset features and target shapes ((48300, 4), (48300,))\n"
     ]
    }
   ],
   "source": [
    "features, target = data[['bedrooms', 'bathrooms', 'latitude', 'longitude']], data['price']\n",
    "\n",
    "print(f'Dataset features and target shapes {features.shape, target.shape}')"
   ]
  },
  {
   "cell_type": "code",
   "execution_count": 12,
   "id": "f136401e",
   "metadata": {},
   "outputs": [
    {
     "name": "stdout",
     "output_type": "stream",
     "text": [
      "R^2 score of the model (using sklearn metric function) is 0.5763157313659286\n",
      "R^2 score of the model (using model scoring function) is 0.5763157313659286\n",
      "Mean Absolute Error (MAE) is 658.78$. Error percentage 19.16%\n"
     ]
    }
   ],
   "source": [
    "linear_regressor = LinearRegression(fit_intercept = True, copy_X = True, n_jobs = -1)\n",
    "linear_regressor.fit(X = features, y = target)\n",
    "\n",
    "predictions = linear_regressor.predict(X = features)\n",
    "ma_error = mean_absolute_error(y_true = target, y_pred = predictions)\n",
    "error_percentage = (ma_error * 100.00 / target.mean())\n",
    "\n",
    "print(f'R^2 score of the model (using sklearn metric function) is {r2_score(target, predictions)}')\n",
    "print(f'R^2 score of the model (using model scoring function) is {linear_regressor.score(X = features, y = target)}')\n",
    "print(f'Mean Absolute Error (MAE) is {ma_error:.2f}$. Error percentage {error_percentage:.2f}%')"
   ]
  },
  {
   "cell_type": "code",
   "execution_count": 13,
   "id": "06efe56b",
   "metadata": {},
   "outputs": [
    {
     "name": "stdout",
     "output_type": "stream",
     "text": [
      "Training dataset features and target shapes ((38640, 4), (38640,))\n",
      "Validation dataset features and target shapes ((9660, 4), (9660,))\n"
     ]
    }
   ],
   "source": [
    "features_train, features_validation, target_train, target_validation = train_test_split(features, target, test_size = 0.2)\n",
    "\n",
    "print(f'Training dataset features and target shapes {features_train.shape, target_train.shape}')\n",
    "print(f'Validation dataset features and target shapes {features_validation.shape, target_validation.shape}')"
   ]
  },
  {
   "cell_type": "code",
   "execution_count": 14,
   "id": "da93c76f",
   "metadata": {},
   "outputs": [
    {
     "name": "stdout",
     "output_type": "stream",
     "text": [
      "R^2 score of the model (using sklearn metric function) is 0.5949251728364259\n",
      "R^2 score of the model (using model scoring function) is 0.5949251728364259\n",
      "Mean Absolute Error (MAE) is 645.42$. Error percentage 18.78%\n"
     ]
    }
   ],
   "source": [
    "linear_regressor = LinearRegression(fit_intercept = True, copy_X = True, n_jobs = -1)\n",
    "linear_regressor.fit(X = features_train, y = target_train)\n",
    "\n",
    "predictions = linear_regressor.predict(X = features_validation)\n",
    "ma_error = mean_absolute_error(y_true = target_validation, y_pred = predictions)\n",
    "error_percentage = (ma_error * 100.00 / target_validation.mean())\n",
    "\n",
    "print(f'R^2 score of the model (using sklearn metric function) is {r2_score(target_validation, predictions)}')\n",
    "print(f'R^2 score of the model (using model scoring function) is {linear_regressor.score(X = features_validation, y = target_validation)}')\n",
    "print(f'Mean Absolute Error (MAE) is {ma_error:.2f}$. Error percentage {error_percentage:.2f}%')"
   ]
  },
  {
   "cell_type": "code",
   "execution_count": 15,
   "id": "3ba9e166",
   "metadata": {},
   "outputs": [
    {
     "name": "stdout",
     "output_type": "stream",
     "text": [
      "Linear regression model coefficients: [   453.56991727   1437.17094352   1443.02321895 -15829.00792226]\n",
      "Linear regression model intercept: -1228651.3860052403\n",
      "Names of features seen during fit: ['bedrooms' 'bathrooms' 'latitude' 'longitude']\n"
     ]
    }
   ],
   "source": [
    "print(f'Linear regression model coefficients: {linear_regressor.coef_}')\n",
    "print(f'Linear regression model intercept: {linear_regressor.intercept_}')\n",
    "print(f'Names of features seen during fit: {linear_regressor.feature_names_in_}')"
   ]
  },
  {
   "cell_type": "markdown",
   "id": "ef7c8a85",
   "metadata": {},
   "source": [
    "### A.3. Training Random Forest Regression Model\n",
    "\n",
    "The second regression model we are going to train is the `RandomForestRegressor`."
   ]
  },
  {
   "cell_type": "code",
   "execution_count": 16,
   "id": "71aa848d",
   "metadata": {},
   "outputs": [],
   "source": [
    "from sklearn.ensemble import RandomForestRegressor\n",
    "from sklearn.inspection import permutation_importance"
   ]
  },
  {
   "cell_type": "code",
   "execution_count": 17,
   "id": "e11b395e",
   "metadata": {},
   "outputs": [
    {
     "data": {
      "text/plain": [
       "RandomForestRegressor(n_estimators=25)"
      ]
     },
     "execution_count": 17,
     "metadata": {},
     "output_type": "execute_result"
    }
   ],
   "source": [
    "features, target = data[['bedrooms', 'bathrooms', 'latitude', 'longitude']], data['price']\n",
    "\n",
    "random_forest_regressor = RandomForestRegressor(n_estimators = 25) # train 25 trees\n",
    "random_forest_regressor.fit(features, target)"
   ]
  },
  {
   "cell_type": "markdown",
   "id": "28c787fb",
   "metadata": {},
   "source": [
    "Once we've trained a model, we have to test it, just like we do with software before deployment. \n",
    "There are two things to test. \n",
    "First, we verify that the model fits the training data well, meaning that the model captures the relationship in the training data between feature vectors and the targets. \n",
    "Second, we verify that the model generalizes, yielding reasonable rent predictions for feature vectors not in the training set.\n",
    "\n",
    "To see how well the model fits the training data, we pass the feature vectors of the training data back into the model and compare the predictions to the known actual prices. \n",
    "At this point in our process, we don't care about generality. \n",
    "We're just checking that our model can reproduce the original training data with some degree of accuracy. \n",
    "If the model can't make accurate predictions for apartments it trained on, then there's no hope the model will generalize to previously-unseen apartments.\n",
    "\n",
    "To assess the model, we'll make a prediction for every apartment and subtract that from the actual price found in the training data (and take absolute value). \n",
    "The average of those differences is the mean absolute error, abbreviated `MAE`, and `sklearn` provides a ready-made function to compute that."
   ]
  },
  {
   "cell_type": "code",
   "execution_count": 18,
   "id": "c1799a81",
   "metadata": {},
   "outputs": [
    {
     "name": "stdout",
     "output_type": "stream",
     "text": [
      "R^2 score of the model (using sklearn metric function) is 0.9453306530670244\n",
      "R^2 score of the model (using model scoring function) is 0.9453306530670244\n",
      "Mean Absolute Error (MAE) is 186.84$. Error percentage 5.43%\n"
     ]
    }
   ],
   "source": [
    "predictions = random_forest_regressor.predict(features)\n",
    "\n",
    "ma_error = mean_absolute_error(target, predictions)\n",
    "error_percentage = (ma_error * 100.00 / target.mean())\n",
    "\n",
    "print(f'R^2 score of the model (using sklearn metric function) is {r2_score(target, predictions)}')\n",
    "print(f'R^2 score of the model (using model scoring function) is {random_forest_regressor.score(X = features, y = target)}')\n",
    "print(f'Mean Absolute Error (MAE) is {ma_error:.2f}$. Error percentage {error_percentage:.2f}%')"
   ]
  },
  {
   "cell_type": "markdown",
   "id": "35a96a3c",
   "metadata": {},
   "source": [
    "The true measure of model quality is its generality: how accurately it predicts prices for apartment feature vectors not found in the training data. \n",
    "For this purpose, we divide our data set into two parts: training and validation dataset.\n",
    "We want the validation error to be as close to the training error as possible."
   ]
  },
  {
   "cell_type": "code",
   "execution_count": 19,
   "id": "9bb492b7",
   "metadata": {},
   "outputs": [
    {
     "name": "stdout",
     "output_type": "stream",
     "text": [
      "R^2 score of the model (using sklearn metric function) is 0.8536220080144109\n",
      "R^2 score of the model (using model scoring function) is 0.8536220080144109\n",
      "Mean Absolute Error (MAE) is 302.00$. Error percentage 8.78%\n"
     ]
    }
   ],
   "source": [
    "features_train, features_validation, target_train, target_validation = train_test_split(features, target, test_size = 0.2)\n",
    "\n",
    "random_forest_regressor = RandomForestRegressor(n_estimators = 25) # train 25 trees\n",
    "random_forest_regressor.fit(features_train, target_train)\n",
    "\n",
    "predictions = random_forest_regressor.predict(features_validation)\n",
    "ma_error = mean_absolute_error(target_validation, predictions)\n",
    "error_percentage = (ma_error * 100.00 / target.mean())\n",
    "\n",
    "print(f'R^2 score of the model (using sklearn metric function) is {r2_score(target_validation, predictions)}')\n",
    "print(f'R^2 score of the model (using model scoring function) is {random_forest_regressor.score(X = features_validation, y = target_validation)}')\n",
    "print(f'Mean Absolute Error (MAE) is {ma_error:.2f}$. Error percentage {error_percentage:.2f}%')"
   ]
  },
  {
   "cell_type": "markdown",
   "id": "583b3aa0",
   "metadata": {},
   "source": [
    "Now that we have a metric of model generality, we can use it to tweak model architecture in an effort to improve accuracy.\n",
    "The idea is to wiggle some aspect(s) of the model and see if the validation error goes up or down.\n",
    "The number of trees, and any other aspect of the model that affects its architecture, statisticians call a *hyper-parameter*."
   ]
  },
  {
   "cell_type": "code",
   "execution_count": 20,
   "id": "18b71e3a",
   "metadata": {},
   "outputs": [
    {
     "name": "stdout",
     "output_type": "stream",
     "text": [
      "R^2 score of the model (using sklearn metric function) is 0.8596866632653584\n",
      "R^2 score of the model (using model scoring function) is 0.8596866632653584\n",
      "Mean Absolute Error (MAE) is 295.49$. Error percentage 8.59%\n"
     ]
    }
   ],
   "source": [
    "features_train, features_validation, target_train, target_validation = train_test_split(features, target, test_size = 0.2)\n",
    "\n",
    "random_forest_regressor = RandomForestRegressor(n_estimators = 100) # train 100 trees\n",
    "random_forest_regressor.fit(features_train, target_train)\n",
    "\n",
    "predictions      = random_forest_regressor.predict(features_validation)\n",
    "ma_error         = mean_absolute_error(target_validation, predictions)\n",
    "error_percentage = (ma_error * 100.00 / target.mean())\n",
    "\n",
    "print(f'R^2 score of the model (using sklearn metric function) is {r2_score(target_validation, predictions)}')\n",
    "print(f'R^2 score of the model (using model scoring function) is {random_forest_regressor.score(X = features_validation, y = target_validation)}')\n",
    "print(f'Mean Absolute Error (MAE) is {ma_error:.2f}$. Error percentage {error_percentage:.2f}%')"
   ]
  },
  {
   "cell_type": "markdown",
   "id": "8f514987",
   "metadata": {},
   "source": [
    "Machine learning models do much more for us than make predictions. \n",
    "Depending on the model, we can learn quite a bit about the data itself.\n",
    "One such technique is determining feature importances. \n",
    "A feature column from the validation set is permuted and the metric is evaluated. \n",
    "The permutation importance is defined to be the difference between the baseline metric and metric from permutating the feature column."
   ]
  },
  {
   "cell_type": "code",
   "execution_count": 21,
   "id": "81168e52",
   "metadata": {},
   "outputs": [
    {
     "data": {
      "text/html": [
       "<div>\n",
       "<style scoped>\n",
       "    .dataframe tbody tr th:only-of-type {\n",
       "        vertical-align: middle;\n",
       "    }\n",
       "\n",
       "    .dataframe tbody tr th {\n",
       "        vertical-align: top;\n",
       "    }\n",
       "\n",
       "    .dataframe thead th {\n",
       "        text-align: right;\n",
       "    }\n",
       "</style>\n",
       "<table border=\"1\" class=\"dataframe\">\n",
       "  <thead>\n",
       "    <tr style=\"text-align: right;\">\n",
       "      <th></th>\n",
       "      <th>importances_mean</th>\n",
       "      <th>importances_std</th>\n",
       "    </tr>\n",
       "  </thead>\n",
       "  <tbody>\n",
       "    <tr>\n",
       "      <th>bedrooms</th>\n",
       "      <td>0.528632</td>\n",
       "      <td>0.006810</td>\n",
       "    </tr>\n",
       "    <tr>\n",
       "      <th>bathrooms</th>\n",
       "      <td>0.462949</td>\n",
       "      <td>0.010396</td>\n",
       "    </tr>\n",
       "    <tr>\n",
       "      <th>latitude</th>\n",
       "      <td>0.466176</td>\n",
       "      <td>0.008176</td>\n",
       "    </tr>\n",
       "    <tr>\n",
       "      <th>longitude</th>\n",
       "      <td>0.529886</td>\n",
       "      <td>0.012791</td>\n",
       "    </tr>\n",
       "  </tbody>\n",
       "</table>\n",
       "</div>"
      ],
      "text/plain": [
       "           importances_mean  importances_std\n",
       "bedrooms           0.528632         0.006810\n",
       "bathrooms          0.462949         0.010396\n",
       "latitude           0.466176         0.008176\n",
       "longitude          0.529886         0.012791"
      ]
     },
     "execution_count": 21,
     "metadata": {},
     "output_type": "execute_result"
    }
   ],
   "source": [
    "importances = permutation_importance(random_forest_regressor, features_validation, target_validation, n_repeats = 10, n_jobs = -1)\n",
    "\n",
    "forest_importances = pd.DataFrame(\n",
    "    data    = np.hstack((importances['importances_mean'].reshape(-1, 1), importances['importances_std'].reshape(-1, 1))), \n",
    "    index   = data.columns[:-1],\n",
    "    columns = ['importances_mean', 'importances_std']\n",
    ")\n",
    "\n",
    "forest_importances"
   ]
  },
  {
   "cell_type": "code",
   "execution_count": 22,
   "id": "10ffb346",
   "metadata": {},
   "outputs": [
    {
     "data": {
      "image/png": "[encoded data removed]",
      "text/plain": [
       "<Figure size 1080x576 with 1 Axes>"
      ]
     },
     "metadata": {},
     "output_type": "display_data"
    }
   ],
   "source": [
    "figure, axes = plt.subplots(figsize = (15, 8))\n",
    "\n",
    "axes.bar(\n",
    "    x = forest_importances.index, \n",
    "    height = forest_importances['importances_mean'],\n",
    "    width = 0.4,\n",
    "    color = color_palette['lightblue'],\n",
    "    edgecolor = 'black'\n",
    ")\n",
    "\n",
    "for index, value in enumerate(forest_importances['importances_mean']):\n",
    "    axes.text(index - 0.05, value + 0.01, str(round(value,2)), fontweight = 'bold')\n",
    "\n",
    "axes.set_ylim(bottom = 0, top = 1)\n",
    "axes.set_ylabel('Mean accuracy decrease', fontdict = {'fontsize': 13})\n",
    "axes.set_title('Feature importances using permutation on full model', fontdict = {'fontsize': 13})\n",
    "\n",
    "plt.show()"
   ]
  },
  {
   "cell_type": "markdown",
   "id": "a66fbf59",
   "metadata": {},
   "source": [
    "## B. Classification\n",
    "\n",
    "*Machine Learning* creates a *model* that captures the relationship between *feature vectors* and some *target variables* within a *training dataset*.\n",
    "A feature vector is a set of features or attributes that characterize a particular object (e.g. shape, size, and other characteristics of cell nuclei in digitized images).\n",
    "If the target is a discrete category or class, we're building a *classifier*.\n",
    "Classifiers are drawing decision boundaries in between data points associated with the various categories.\n",
    "\n",
    "<p>\n",
    "    <img src=\"https://mlbook.explained.ai/images/intro/mindist-decision-lines.svg\" width = 300 height = 300>\n",
    "</p>"
   ]
  },
  {
   "cell_type": "markdown",
   "id": "66aa718b",
   "metadata": {},
   "source": [
    "### B.1. Importing Dataset\n",
    "\n",
    "To build our first classifier, we're going to train a model using the well-known Wisconsin Breast Cancer dataset.\n",
    "There are `569` observations (patients) in the breast cancer data set and each observation has 30 numeric predictive features. \n",
    "The target variable (diagnosis) is a binary variable that indicates malignant or benign outcome. \n",
    "The features describe the shape, size, and other characteristics of cell nuclei in digitized images;"
   ]
  },
  {
   "cell_type": "code",
   "execution_count": 23,
   "id": "ec704575",
   "metadata": {},
   "outputs": [],
   "source": [
    "PATH = '../data/breast_cancer.csv'"
   ]
  },
  {
   "cell_type": "code",
   "execution_count": 24,
   "id": "3a1bc5c7",
   "metadata": {},
   "outputs": [
    {
     "name": "stdout",
     "output_type": "stream",
     "text": [
      "569 ../data/breast_cancer.csv\n",
      "124K\t../data/breast_cancer.csv\n"
     ]
    }
   ],
   "source": [
    "!wc -l {PATH}\n",
    "!du -h {PATH}"
   ]
  },
  {
   "cell_type": "code",
   "execution_count": 25,
   "id": "87cac464",
   "metadata": {},
   "outputs": [
    {
     "data": {
      "text/html": [
       "<div>\n",
       "<style scoped>\n",
       "    .dataframe tbody tr th:only-of-type {\n",
       "        vertical-align: middle;\n",
       "    }\n",
       "\n",
       "    .dataframe tbody tr th {\n",
       "        vertical-align: top;\n",
       "    }\n",
       "\n",
       "    .dataframe thead th {\n",
       "        text-align: right;\n",
       "    }\n",
       "</style>\n",
       "<table border=\"1\" class=\"dataframe\">\n",
       "  <thead>\n",
       "    <tr style=\"text-align: right;\">\n",
       "      <th></th>\n",
       "      <th>id</th>\n",
       "      <th>diagnosis</th>\n",
       "      <th>radius_mean</th>\n",
       "      <th>texture_mean</th>\n",
       "      <th>perimeter_mean</th>\n",
       "      <th>area_mean</th>\n",
       "      <th>smoothness_mean</th>\n",
       "      <th>compactness_mean</th>\n",
       "      <th>concavity_mean</th>\n",
       "      <th>concave points_mean</th>\n",
       "      <th>...</th>\n",
       "      <th>radius_worst</th>\n",
       "      <th>texture_worst</th>\n",
       "      <th>perimeter_worst</th>\n",
       "      <th>area_worst</th>\n",
       "      <th>smoothness_worst</th>\n",
       "      <th>compactness_worst</th>\n",
       "      <th>concavity_worst</th>\n",
       "      <th>concave points_worst</th>\n",
       "      <th>symmetry_worst</th>\n",
       "      <th>fractal_dimension_worst</th>\n",
       "    </tr>\n",
       "  </thead>\n",
       "  <tbody>\n",
       "    <tr>\n",
       "      <th>0</th>\n",
       "      <td>842302</td>\n",
       "      <td>1</td>\n",
       "      <td>17.99</td>\n",
       "      <td>10.38</td>\n",
       "      <td>122.80</td>\n",
       "      <td>1001.0</td>\n",
       "      <td>0.11840</td>\n",
       "      <td>0.27760</td>\n",
       "      <td>0.3001</td>\n",
       "      <td>0.14710</td>\n",
       "      <td>...</td>\n",
       "      <td>25.38</td>\n",
       "      <td>17.33</td>\n",
       "      <td>184.60</td>\n",
       "      <td>2019.0</td>\n",
       "      <td>0.1622</td>\n",
       "      <td>0.6656</td>\n",
       "      <td>0.7119</td>\n",
       "      <td>0.2654</td>\n",
       "      <td>0.4601</td>\n",
       "      <td>0.11890</td>\n",
       "    </tr>\n",
       "    <tr>\n",
       "      <th>1</th>\n",
       "      <td>842517</td>\n",
       "      <td>1</td>\n",
       "      <td>20.57</td>\n",
       "      <td>17.77</td>\n",
       "      <td>132.90</td>\n",
       "      <td>1326.0</td>\n",
       "      <td>0.08474</td>\n",
       "      <td>0.07864</td>\n",
       "      <td>0.0869</td>\n",
       "      <td>0.07017</td>\n",
       "      <td>...</td>\n",
       "      <td>24.99</td>\n",
       "      <td>23.41</td>\n",
       "      <td>158.80</td>\n",
       "      <td>1956.0</td>\n",
       "      <td>0.1238</td>\n",
       "      <td>0.1866</td>\n",
       "      <td>0.2416</td>\n",
       "      <td>0.1860</td>\n",
       "      <td>0.2750</td>\n",
       "      <td>0.08902</td>\n",
       "    </tr>\n",
       "    <tr>\n",
       "      <th>2</th>\n",
       "      <td>84300903</td>\n",
       "      <td>1</td>\n",
       "      <td>19.69</td>\n",
       "      <td>21.25</td>\n",
       "      <td>130.00</td>\n",
       "      <td>1203.0</td>\n",
       "      <td>0.10960</td>\n",
       "      <td>0.15990</td>\n",
       "      <td>0.1974</td>\n",
       "      <td>0.12790</td>\n",
       "      <td>...</td>\n",
       "      <td>23.57</td>\n",
       "      <td>25.53</td>\n",
       "      <td>152.50</td>\n",
       "      <td>1709.0</td>\n",
       "      <td>0.1444</td>\n",
       "      <td>0.4245</td>\n",
       "      <td>0.4504</td>\n",
       "      <td>0.2430</td>\n",
       "      <td>0.3613</td>\n",
       "      <td>0.08758</td>\n",
       "    </tr>\n",
       "    <tr>\n",
       "      <th>3</th>\n",
       "      <td>84348301</td>\n",
       "      <td>1</td>\n",
       "      <td>11.42</td>\n",
       "      <td>20.38</td>\n",
       "      <td>77.58</td>\n",
       "      <td>386.1</td>\n",
       "      <td>0.14250</td>\n",
       "      <td>0.28390</td>\n",
       "      <td>0.2414</td>\n",
       "      <td>0.10520</td>\n",
       "      <td>...</td>\n",
       "      <td>14.91</td>\n",
       "      <td>26.50</td>\n",
       "      <td>98.87</td>\n",
       "      <td>567.7</td>\n",
       "      <td>0.2098</td>\n",
       "      <td>0.8663</td>\n",
       "      <td>0.6869</td>\n",
       "      <td>0.2575</td>\n",
       "      <td>0.6638</td>\n",
       "      <td>0.17300</td>\n",
       "    </tr>\n",
       "    <tr>\n",
       "      <th>4</th>\n",
       "      <td>84358402</td>\n",
       "      <td>1</td>\n",
       "      <td>20.29</td>\n",
       "      <td>14.34</td>\n",
       "      <td>135.10</td>\n",
       "      <td>1297.0</td>\n",
       "      <td>0.10030</td>\n",
       "      <td>0.13280</td>\n",
       "      <td>0.1980</td>\n",
       "      <td>0.10430</td>\n",
       "      <td>...</td>\n",
       "      <td>22.54</td>\n",
       "      <td>16.67</td>\n",
       "      <td>152.20</td>\n",
       "      <td>1575.0</td>\n",
       "      <td>0.1374</td>\n",
       "      <td>0.2050</td>\n",
       "      <td>0.4000</td>\n",
       "      <td>0.1625</td>\n",
       "      <td>0.2364</td>\n",
       "      <td>0.07678</td>\n",
       "    </tr>\n",
       "  </tbody>\n",
       "</table>\n",
       "<p>5 rows × 32 columns</p>\n",
       "</div>"
      ],
      "text/plain": [
       "         id  diagnosis  radius_mean  texture_mean  perimeter_mean  area_mean  \\\n",
       "0    842302          1        17.99         10.38          122.80     1001.0   \n",
       "1    842517          1        20.57         17.77          132.90     1326.0   \n",
       "2  84300903          1        19.69         21.25          130.00     1203.0   \n",
       "3  84348301          1        11.42         20.38           77.58      386.1   \n",
       "4  84358402          1        20.29         14.34          135.10     1297.0   \n",
       "\n",
       "   smoothness_mean  compactness_mean  concavity_mean  concave points_mean  \\\n",
       "0          0.11840           0.27760          0.3001              0.14710   \n",
       "1          0.08474           0.07864          0.0869              0.07017   \n",
       "2          0.10960           0.15990          0.1974              0.12790   \n",
       "3          0.14250           0.28390          0.2414              0.10520   \n",
       "4          0.10030           0.13280          0.1980              0.10430   \n",
       "\n",
       "   ...  radius_worst  texture_worst  perimeter_worst  area_worst  \\\n",
       "0  ...         25.38          17.33           184.60      2019.0   \n",
       "1  ...         24.99          23.41           158.80      1956.0   \n",
       "2  ...         23.57          25.53           152.50      1709.0   \n",
       "3  ...         14.91          26.50            98.87       567.7   \n",
       "4  ...         22.54          16.67           152.20      1575.0   \n",
       "\n",
       "   smoothness_worst  compactness_worst  concavity_worst  concave points_worst  \\\n",
       "0            0.1622             0.6656           0.7119                0.2654   \n",
       "1            0.1238             0.1866           0.2416                0.1860   \n",
       "2            0.1444             0.4245           0.4504                0.2430   \n",
       "3            0.2098             0.8663           0.6869                0.2575   \n",
       "4            0.1374             0.2050           0.4000                0.1625   \n",
       "\n",
       "   symmetry_worst  fractal_dimension_worst  \n",
       "0          0.4601                  0.11890  \n",
       "1          0.2750                  0.08902  \n",
       "2          0.3613                  0.08758  \n",
       "3          0.6638                  0.17300  \n",
       "4          0.2364                  0.07678  \n",
       "\n",
       "[5 rows x 32 columns]"
      ]
     },
     "execution_count": 25,
     "metadata": {},
     "output_type": "execute_result"
    }
   ],
   "source": [
    "data = pd.read_csv(filepath_or_buffer = PATH)\n",
    "data['diagnosis'] = data['diagnosis'].astype('category').cat.codes # convert target to categorical (integers)\n",
    "\n",
    "data.head()"
   ]
  },
  {
   "cell_type": "code",
   "execution_count": 26,
   "id": "ce3200b7",
   "metadata": {},
   "outputs": [
    {
     "name": "stdout",
     "output_type": "stream",
     "text": [
      "The dataset data type is <class 'pandas.core.frame.DataFrame'>\n",
      "The dataset has 569 rows and 32 columns\n",
      "The dataset contains 18208 values (rows x columns)\n",
      "The data frame index is RangeIndex(start=0, stop=569, step=1)\n",
      "The data frame columns are Index(['id', 'diagnosis', 'radius_mean', 'texture_mean', 'perimeter_mean',\n",
      "       'area_mean', 'smoothness_mean', 'compactness_mean', 'concavity_mean',\n",
      "       'concave points_mean', 'symmetry_mean', 'fractal_dimension_mean',\n",
      "       'radius_se', 'texture_se', 'perimeter_se', 'area_se', 'smoothness_se',\n",
      "       'compactness_se', 'concavity_se', 'concave points_se', 'symmetry_se',\n",
      "       'fractal_dimension_se', 'radius_worst', 'texture_worst',\n",
      "       'perimeter_worst', 'area_worst', 'smoothness_worst',\n",
      "       'compactness_worst', 'concavity_worst', 'concave points_worst',\n",
      "       'symmetry_worst', 'fractal_dimension_worst'],\n",
      "      dtype='object')\n"
     ]
    }
   ],
   "source": [
    "print(f'The dataset data type is {type(data)}')\n",
    "print(f'The dataset has {data.shape[0]} rows and {data.shape[1]} columns')\n",
    "print(f'The dataset contains {data.size} values (rows x columns)')\n",
    "print(f'The data frame index is {data.index}')\n",
    "print(f'The data frame columns are {data.columns}')"
   ]
  },
  {
   "cell_type": "code",
   "execution_count": 27,
   "id": "98cc4244",
   "metadata": {},
   "outputs": [
    {
     "name": "stdout",
     "output_type": "stream",
     "text": [
      "<class 'pandas.core.frame.DataFrame'>\n",
      "RangeIndex: 569 entries, 0 to 568\n",
      "Data columns (total 32 columns):\n",
      " #   Column                   Non-Null Count  Dtype  \n",
      "---  ------                   --------------  -----  \n",
      " 0   id                       569 non-null    int64  \n",
      " 1   diagnosis                569 non-null    int8   \n",
      " 2   radius_mean              569 non-null    float64\n",
      " 3   texture_mean             569 non-null    float64\n",
      " 4   perimeter_mean           569 non-null    float64\n",
      " 5   area_mean                569 non-null    float64\n",
      " 6   smoothness_mean          569 non-null    float64\n",
      " 7   compactness_mean         569 non-null    float64\n",
      " 8   concavity_mean           569 non-null    float64\n",
      " 9   concave points_mean      569 non-null    float64\n",
      " 10  symmetry_mean            569 non-null    float64\n",
      " 11  fractal_dimension_mean   569 non-null    float64\n",
      " 12  radius_se                569 non-null    float64\n",
      " 13  texture_se               569 non-null    float64\n",
      " 14  perimeter_se             569 non-null    float64\n",
      " 15  area_se                  569 non-null    float64\n",
      " 16  smoothness_se            569 non-null    float64\n",
      " 17  compactness_se           569 non-null    float64\n",
      " 18  concavity_se             569 non-null    float64\n",
      " 19  concave points_se        569 non-null    float64\n",
      " 20  symmetry_se              569 non-null    float64\n",
      " 21  fractal_dimension_se     569 non-null    float64\n",
      " 22  radius_worst             569 non-null    float64\n",
      " 23  texture_worst            569 non-null    float64\n",
      " 24  perimeter_worst          569 non-null    float64\n",
      " 25  area_worst               569 non-null    float64\n",
      " 26  smoothness_worst         569 non-null    float64\n",
      " 27  compactness_worst        569 non-null    float64\n",
      " 28  concavity_worst          569 non-null    float64\n",
      " 29  concave points_worst     569 non-null    float64\n",
      " 30  symmetry_worst           569 non-null    float64\n",
      " 31  fractal_dimension_worst  569 non-null    float64\n",
      "dtypes: float64(30), int64(1), int8(1)\n",
      "memory usage: 138.5 KB\n"
     ]
    },
    {
     "data": {
      "text/plain": [
       "Index                      0.125000\n",
       "id                         4.445312\n",
       "diagnosis                  0.555664\n",
       "radius_mean                4.445312\n",
       "texture_mean               4.445312\n",
       "perimeter_mean             4.445312\n",
       "area_mean                  4.445312\n",
       "smoothness_mean            4.445312\n",
       "compactness_mean           4.445312\n",
       "concavity_mean             4.445312\n",
       "concave points_mean        4.445312\n",
       "symmetry_mean              4.445312\n",
       "fractal_dimension_mean     4.445312\n",
       "radius_se                  4.445312\n",
       "texture_se                 4.445312\n",
       "perimeter_se               4.445312\n",
       "area_se                    4.445312\n",
       "smoothness_se              4.445312\n",
       "compactness_se             4.445312\n",
       "concavity_se               4.445312\n",
       "concave points_se          4.445312\n",
       "symmetry_se                4.445312\n",
       "fractal_dimension_se       4.445312\n",
       "radius_worst               4.445312\n",
       "texture_worst              4.445312\n",
       "perimeter_worst            4.445312\n",
       "area_worst                 4.445312\n",
       "smoothness_worst           4.445312\n",
       "compactness_worst          4.445312\n",
       "concavity_worst            4.445312\n",
       "concave points_worst       4.445312\n",
       "symmetry_worst             4.445312\n",
       "fractal_dimension_worst    4.445312\n",
       "dtype: float64"
      ]
     },
     "metadata": {},
     "output_type": "display_data"
    },
    {
     "name": "stdout",
     "output_type": "stream",
     "text": [
      "Total memory used: 138.49 KB\n"
     ]
    }
   ],
   "source": [
    "memory_series = data.memory_usage(deep = True) / 1024 # show memory usage in KB\n",
    "\n",
    "data.info()\n",
    "display(memory_series)\n",
    "print(f'Total memory used: {memory_series.sum():.2f} KB')"
   ]
  },
  {
   "cell_type": "markdown",
   "id": "92d3c119",
   "metadata": {},
   "source": [
    "### B.2. Training Logistic Regression Model\n",
    "\n",
    "In this section we use `sklearn` library to train and assess the logistic regression model."
   ]
  },
  {
   "cell_type": "code",
   "execution_count": 28,
   "id": "3c30b0f4",
   "metadata": {},
   "outputs": [],
   "source": [
    "from sklearn.metrics import accuracy_score\n",
    "from sklearn.linear_model import LogisticRegression"
   ]
  },
  {
   "cell_type": "code",
   "execution_count": 29,
   "id": "af0b3a89",
   "metadata": {},
   "outputs": [
    {
     "name": "stdout",
     "output_type": "stream",
     "text": [
      "Dataset features and target shapes ((569, 31), (569,))\n"
     ]
    }
   ],
   "source": [
    "features, target = data.drop(labels = 'diagnosis', axis = 1), data['diagnosis']\n",
    "\n",
    "print(f'Dataset features and target shapes {features.shape, target.shape}')"
   ]
  },
  {
   "cell_type": "code",
   "execution_count": 30,
   "id": "f33f8c65",
   "metadata": {},
   "outputs": [
    {
     "name": "stdout",
     "output_type": "stream",
     "text": [
      "Accuracy: 62.74%\n",
      "Accuracy (using sklearn metric): 62.74%\n"
     ]
    }
   ],
   "source": [
    "logistic_regressor = LogisticRegression(fit_intercept = True, n_jobs = -1)\n",
    "logistic_regressor.fit(X = features, y = target)\n",
    "\n",
    "predictions = logistic_regressor.predict(X = features)\n",
    "\n",
    "print(f\"Accuracy: {logistic_regressor.score(features, target)*100:.2f}%\")\n",
    "print(f\"Accuracy (using sklearn metric): {accuracy_score(target, predictions)*100:.2f}%\")"
   ]
  },
  {
   "cell_type": "code",
   "execution_count": 31,
   "id": "680b9bc2",
   "metadata": {},
   "outputs": [
    {
     "name": "stdout",
     "output_type": "stream",
     "text": [
      "Training dataset features and target shapes ((455, 31), (455,))\n",
      "Validation dataset features and target shapes ((114, 31), (114,))\n"
     ]
    }
   ],
   "source": [
    "features_train, features_validation, target_train, target_validation = train_test_split(features, target, test_size = 0.2)\n",
    "\n",
    "print(f'Training dataset features and target shapes {features_train.shape, target_train.shape}')\n",
    "print(f'Validation dataset features and target shapes {features_validation.shape, target_validation.shape}')"
   ]
  },
  {
   "cell_type": "code",
   "execution_count": 32,
   "id": "3aa436f3",
   "metadata": {},
   "outputs": [
    {
     "name": "stdout",
     "output_type": "stream",
     "text": [
      "Accuracy: 59.65%\n",
      "Accuracy (using sklearn metric): 59.65%\n"
     ]
    }
   ],
   "source": [
    "logistic_regressor = LogisticRegression(fit_intercept = True, n_jobs = -1)\n",
    "logistic_regressor.fit(X = features_train, y = target_train)\n",
    "\n",
    "predictions = logistic_regressor.predict(X = features_validation)\n",
    "\n",
    "print(f\"Accuracy: {logistic_regressor.score(features_validation, target_validation)*100:.2f}%\")\n",
    "print(f\"Accuracy (using sklearn metric): {accuracy_score(target_validation, predictions)*100:.2f}%\")"
   ]
  },
  {
   "cell_type": "code",
   "execution_count": 33,
   "id": "1317f8f2",
   "metadata": {},
   "outputs": [
    {
     "name": "stdout",
     "output_type": "stream",
     "text": [
      "A list of class labels known to the classifier: [0 1]\n",
      "Logistic regression model coefficients: [[-3.56793044e-10 -7.03705420e-16 -1.78579865e-15 -3.91981818e-15\n",
      "   3.45848254e-14 -1.14652467e-17  8.65597774e-19  1.59493030e-17\n",
      "   8.42610991e-18 -2.11778954e-17 -9.14548448e-18  2.17402239e-17\n",
      "  -1.79760356e-16  1.62579767e-16  7.13425500e-15 -1.13545010e-18\n",
      "  -1.03474608e-18 -8.17639893e-19 -4.27552445e-19 -2.90818524e-18\n",
      "  -4.49700179e-19 -3.89626938e-16 -2.15682369e-15 -1.77224975e-15\n",
      "   9.06022899e-14 -1.41828706e-17  1.07869871e-17  3.18153520e-17\n",
      "   1.06003153e-17 -2.75519492e-17 -9.11330005e-18]]\n",
      "Logistic regression model intercept: [-1.43876895e-16]\n",
      "Names of features seen during fit: (array(['bedrooms', 'bathrooms', 'latitude', 'longitude'], dtype=object), 4)\n"
     ]
    }
   ],
   "source": [
    "print(f'A list of class labels known to the classifier: {logistic_regressor.classes_}')\n",
    "print(f'Logistic regression model coefficients: {logistic_regressor.coef_}')\n",
    "print(f'Logistic regression model intercept: {logistic_regressor.intercept_}')\n",
    "print(f'Names of features seen during fit: {linear_regressor.feature_names_in_, len(linear_regressor.feature_names_in_)}')"
   ]
  },
  {
   "cell_type": "markdown",
   "id": "5794ed1c",
   "metadata": {},
   "source": [
    "### B.3. Training Random Forest Classifier\n",
    "\n",
    "The second classification model we are going to train is the `RandomForestClassifier`."
   ]
  },
  {
   "cell_type": "code",
   "execution_count": 34,
   "id": "40934128",
   "metadata": {},
   "outputs": [],
   "source": [
    "from sklearn.ensemble import RandomForestClassifier"
   ]
  },
  {
   "cell_type": "code",
   "execution_count": 35,
   "id": "ade91f50",
   "metadata": {},
   "outputs": [
    {
     "name": "stdout",
     "output_type": "stream",
     "text": [
      "Dataset features and target shapes ((569, 31), (569,))\n"
     ]
    }
   ],
   "source": [
    "features, target = data.drop(labels = 'diagnosis', axis = 1), data['diagnosis']\n",
    "\n",
    "print(f'Dataset features and target shapes {features.shape, target.shape}')"
   ]
  },
  {
   "cell_type": "markdown",
   "id": "81db38bc",
   "metadata": {},
   "source": [
    "For classifiers, the `score()` function returns the simplest metric for correctness (accuracy), which measures how many outputs the model predicted correctly out of `569` observations divided by `569`."
   ]
  },
  {
   "cell_type": "code",
   "execution_count": 36,
   "id": "842a5b28",
   "metadata": {},
   "outputs": [
    {
     "name": "stdout",
     "output_type": "stream",
     "text": [
      "Accuracy: 95.35%\n",
      "Accuracy (using sklearn metric): 95.35%\n"
     ]
    }
   ],
   "source": [
    "features_train, features_validation, target_train, target_validation = train_test_split(features, target, test_size = 0.15)\n",
    "\n",
    "random_forest_classifier = RandomForestClassifier(n_estimators = 200)\n",
    "random_forest_classifier.fit(features_train, target_train)\n",
    "\n",
    "predictions = random_forest_classifier.predict(X = features_validation)\n",
    "accuracy = random_forest_classifier.score(features_validation, target_validation)\n",
    "\n",
    "print(f\"Accuracy: {random_forest_classifier.score(features_validation, target_validation)*100:.2f}%\")\n",
    "print(f\"Accuracy (using sklearn metric): {accuracy_score(target_validation, predictions)*100:.2f}%\")"
   ]
  },
  {
   "cell_type": "markdown",
   "id": "d2825b29",
   "metadata": {},
   "source": [
    "Models can only make predictions based upon the training data provided to them. \n",
    "They don't necessarily have the same experience we do, so we have to match our prediction expectations to the training data when judging a model. \n",
    "Or, we can remedy the situation by providing a more extensive training set.\n",
    "\n",
    "Dfferent models can perform differently on the same data set, and a linear model is a good lower bound benchmark. Comparing an RF with a linear model gives us an idea of the difficulty of the problem and could identify problems with our RF model. \n",
    "RFs perform very well in general and do not make assumptions about the underlying feature-target relationship, unlike linear models, but have difficulty extrapolating beyond the training feature ranges. \n",
    "Different models also have different memory footprints and this must be weighed against model strength, according to your project requirements."
   ]
  }
 ],
 "metadata": {
  "kernelspec": {
   "display_name": "Python 3 (ipykernel)",
   "language": "python",
   "name": "python3"
  },
  "language_info": {
   "codemirror_mode": {
    "name": "ipython",
    "version": 3
   },
   "file_extension": ".py",
   "mimetype": "text/x-python",
   "name": "python",
   "nbconvert_exporter": "python",
   "pygments_lexer": "ipython3",
   "version": "3.8.10"
  }
 },
 "nbformat": 4,
 "nbformat_minor": 5
}
