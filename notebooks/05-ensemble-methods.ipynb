{
 "cells": [
  {
   "cell_type": "markdown",
   "id": "1c67639f",
   "metadata": {},
   "source": [
    "# Ensemble Methods\n",
    "\n",
    "In broad terms, ensemble methods combine multiple individual models into an ensemble such that the ensemble has a better performance than an individual model on average.\n"
   ]
  },
  {
   "cell_type": "code",
   "execution_count": 1,
   "id": "e065db37",
   "metadata": {},
   "outputs": [],
   "source": [
    "import numpy as np\n",
    "import pandas as pd\n",
    "\n",
    "from sklearn.model_selection import train_test_split\n",
    "from sklearn.tree import DecisionTreeClassifier, DecisionTreeRegressor"
   ]
  },
  {
   "cell_type": "code",
   "execution_count": 2,
   "id": "cc7572d7",
   "metadata": {},
   "outputs": [],
   "source": [
    "PATH_CLASSIFICATION = '../data/iris.csv'\n",
    "PATH_REGRESSION     = '../data/rent.csv'"
   ]
  },
  {
   "cell_type": "code",
   "execution_count": 3,
   "id": "93a097b6",
   "metadata": {},
   "outputs": [
    {
     "data": {
      "text/html": [
       "<div>\n",
       "<style scoped>\n",
       "    .dataframe tbody tr th:only-of-type {\n",
       "        vertical-align: middle;\n",
       "    }\n",
       "\n",
       "    .dataframe tbody tr th {\n",
       "        vertical-align: top;\n",
       "    }\n",
       "\n",
       "    .dataframe thead th {\n",
       "        text-align: right;\n",
       "    }\n",
       "</style>\n",
       "<table border=\"1\" class=\"dataframe\">\n",
       "  <thead>\n",
       "    <tr style=\"text-align: right;\">\n",
       "      <th></th>\n",
       "      <th>SepalLength[cm]</th>\n",
       "      <th>SepalWidth[cm]</th>\n",
       "      <th>PetalLength[cm]</th>\n",
       "      <th>PetalWidth[cm]</th>\n",
       "      <th>Species</th>\n",
       "    </tr>\n",
       "  </thead>\n",
       "  <tbody>\n",
       "    <tr>\n",
       "      <th>0</th>\n",
       "      <td>5.1</td>\n",
       "      <td>3.5</td>\n",
       "      <td>1.4</td>\n",
       "      <td>0.2</td>\n",
       "      <td>0</td>\n",
       "    </tr>\n",
       "    <tr>\n",
       "      <th>1</th>\n",
       "      <td>4.9</td>\n",
       "      <td>3.0</td>\n",
       "      <td>1.4</td>\n",
       "      <td>0.2</td>\n",
       "      <td>0</td>\n",
       "    </tr>\n",
       "    <tr>\n",
       "      <th>2</th>\n",
       "      <td>4.7</td>\n",
       "      <td>3.2</td>\n",
       "      <td>1.3</td>\n",
       "      <td>0.2</td>\n",
       "      <td>0</td>\n",
       "    </tr>\n",
       "  </tbody>\n",
       "</table>\n",
       "</div>"
      ],
      "text/plain": [
       "   SepalLength[cm]  SepalWidth[cm]  PetalLength[cm]  PetalWidth[cm]  Species\n",
       "0              5.1             3.5              1.4             0.2        0\n",
       "1              4.9             3.0              1.4             0.2        0\n",
       "2              4.7             3.2              1.3             0.2        0"
      ]
     },
     "execution_count": 3,
     "metadata": {},
     "output_type": "execute_result"
    }
   ],
   "source": [
    "label_mapping = {'Iris-setosa': 0, 'Iris-versicolor': 1, 'Iris-virginica': 2}\n",
    "\n",
    "data_classification = pd.read_csv(filepath_or_buffer = PATH_CLASSIFICATION)\n",
    "data_classification['Species'] = data_classification['Species'].map(label_mapping)\n",
    "data_classification = data_classification.drop('Id', axis = 1)\n",
    "\n",
    "data_classification.head(n = 3)"
   ]
  },
  {
   "cell_type": "code",
   "execution_count": 4,
   "id": "347b06ab",
   "metadata": {},
   "outputs": [
    {
     "data": {
      "text/html": [
       "<div>\n",
       "<style scoped>\n",
       "    .dataframe tbody tr th:only-of-type {\n",
       "        vertical-align: middle;\n",
       "    }\n",
       "\n",
       "    .dataframe tbody tr th {\n",
       "        vertical-align: top;\n",
       "    }\n",
       "\n",
       "    .dataframe thead th {\n",
       "        text-align: right;\n",
       "    }\n",
       "</style>\n",
       "<table border=\"1\" class=\"dataframe\">\n",
       "  <thead>\n",
       "    <tr style=\"text-align: right;\">\n",
       "      <th></th>\n",
       "      <th>Bedrooms</th>\n",
       "      <th>Bathrooms</th>\n",
       "      <th>Latitude</th>\n",
       "      <th>Longitude</th>\n",
       "      <th>Price</th>\n",
       "    </tr>\n",
       "  </thead>\n",
       "  <tbody>\n",
       "    <tr>\n",
       "      <th>0</th>\n",
       "      <td>1</td>\n",
       "      <td>1.0</td>\n",
       "      <td>40.7108</td>\n",
       "      <td>-73.9539</td>\n",
       "      <td>2400</td>\n",
       "    </tr>\n",
       "    <tr>\n",
       "      <th>1</th>\n",
       "      <td>2</td>\n",
       "      <td>1.0</td>\n",
       "      <td>40.7513</td>\n",
       "      <td>-73.9722</td>\n",
       "      <td>3800</td>\n",
       "    </tr>\n",
       "    <tr>\n",
       "      <th>2</th>\n",
       "      <td>2</td>\n",
       "      <td>1.0</td>\n",
       "      <td>40.7575</td>\n",
       "      <td>-73.9625</td>\n",
       "      <td>3495</td>\n",
       "    </tr>\n",
       "  </tbody>\n",
       "</table>\n",
       "</div>"
      ],
      "text/plain": [
       "   Bedrooms  Bathrooms  Latitude  Longitude  Price\n",
       "0         1        1.0   40.7108   -73.9539   2400\n",
       "1         2        1.0   40.7513   -73.9722   3800\n",
       "2         2        1.0   40.7575   -73.9625   3495"
      ]
     },
     "execution_count": 4,
     "metadata": {},
     "output_type": "execute_result"
    }
   ],
   "source": [
    "data_regression = pd.read_csv(filepath_or_buffer = PATH_REGRESSION, names = ['Bedrooms', 'Bathrooms', 'Latitude', 'Longitude', 'Price'], skiprows = 1)\n",
    "data_regression.head(n = 3)"
   ]
  },
  {
   "cell_type": "code",
   "execution_count": 5,
   "id": "27ecc1c8",
   "metadata": {},
   "outputs": [
    {
     "name": "stdout",
     "output_type": "stream",
     "text": [
      "Training set shape: (112, 4), Classes shape: (112,)\n",
      "Validation set shape: (38, 4), Classes shape: (38,)\n",
      "Train set class distribution: [38 37 37]. Validation set class distribution: [12 13 13]\n"
     ]
    }
   ],
   "source": [
    "X_class_train, X_class_valid, y_class_train, y_class_valid = train_test_split(data_classification.drop('Species', axis = 1).values, data_classification['Species'].values, test_size = 0.25, random_state = 123, stratify = data_classification['Species'].values)\n",
    "\n",
    "print(f'Training set shape: {X_class_train.shape}, Classes shape: {y_class_train.shape}')\n",
    "print(f'Validation set shape: {X_class_valid.shape}, Classes shape: {y_class_valid.shape}')\n",
    "print(f'Train set class distribution: {np.bincount(y_class_train)}. Validation set class distribution: {np.bincount(y_class_valid)}')"
   ]
  },
  {
   "cell_type": "code",
   "execution_count": 6,
   "id": "9e4b69df",
   "metadata": {},
   "outputs": [
    {
     "name": "stdout",
     "output_type": "stream",
     "text": [
      "Training set shape: (36225, 4), Classes shape: (36225,)\n",
      "Validation set shape: (12075, 4), Classes shape: (12075,)\n"
     ]
    }
   ],
   "source": [
    "X_regression_train, X_regression_valid, y_regression_train, y_regression_valid = train_test_split(data_regression.drop('Price', axis = 1).values, data_regression['Price'].values, test_size = 0.25, random_state = 123)\n",
    "\n",
    "print(f'Training set shape: {X_regression_train.shape}, Classes shape: {y_regression_train.shape}')\n",
    "print(f'Validation set shape: {X_regression_valid.shape}, Classes shape: {y_regression_valid.shape}')"
   ]
  },
  {
   "cell_type": "markdown",
   "id": "903040aa",
   "metadata": {},
   "source": [
    "## A. Majority and Soft Majority Voting\n",
    "\n",
    "Let us assume that we have $n$ different models $\\{h_1, h_2, \\dots, h_n\\}$ where $h_i(\\vec{x}) = \\hat{y_i}$.\n",
    "In the case of classifiers, the final ensemble prediction is: \n",
    "\n",
    "$$\\hat{y}_{pred} = mode\\{h_1(\\vec{x}), h_2(\\vec{x}), ... h_n(\\vec{x})\\}$$\n",
    "\n",
    "In the case of regressors, the final ensemble prediction is: \n",
    "\n",
    "$$\\hat{y}_{pred} = \\frac{1}{n}\\sum_{i = 1}^{n} h_i(\\vec{x})$$\n",
    "\n",
    "\n",
    "In soft majority voting scheme, the class prediction is calculated as:\n",
    "\n",
    "$$ \\hat{y}_{pred} = \\arg\\!\\max_j \\sum_{i = 1}^{n} w_ip_{i,j} $$\n",
    "\n",
    "where $p_{i,j}$ is the predicted class membership probability for class label $j$ by the $i$th classifier.\n",
    "Here $w_i$ is an optional weighting parameter (possibly explaining the model reliability).\n",
    "To illustrate this, let us assume we have a binary classification problem with class labels\n",
    "$j \\in {0, 1}$ and an ensemble of three classifiers $h_i(i \\in {1, 2, 3})$:\n",
    "\n",
    "$$ h_1(x) = [0.9, 0.1], h_2(x) = [0.8, 0.2], h_3(x) = [0.4, 0.6] $$\n",
    "\n",
    "We can then calculate the individual class membership probabilities as follows:\n",
    "\n",
    "$$ p(j = 0 \\mid x) = 0.2*0.9 + 0.2*0.8 + 0.6*0.4 = 0.58 $$\n",
    "\n",
    "$$ p(j = 1 \\mid x) = 0.2*0.1+0.2*0.2+0.6*0.6 = 0.42 $$\n",
    "\n",
    "The predicted class label is then:\n",
    "\n",
    "$$ \\hat{y}_{pred} = \\arg\\!\\max_j \\{p(j = 0 \\mid x), p(j = 1 \\mid x)\\} = 0 $$\n",
    "\n",
    "In the case of regressors, the final ensemble prediction is:\n",
    "\n",
    "$$ \\hat{y}_{pred} =  \\frac{1}{n}\\sum_{i = 1}^{n} w_ih_i({\\vec{x})} $$"
   ]
  },
  {
   "cell_type": "code",
   "execution_count": 7,
   "id": "c97d5e61",
   "metadata": {},
   "outputs": [],
   "source": [
    "from sklearn.ensemble import VotingRegressor\n",
    "from sklearn.ensemble import VotingClassifier"
   ]
  },
  {
   "cell_type": "code",
   "execution_count": 8,
   "id": "151eb462",
   "metadata": {},
   "outputs": [],
   "source": [
    "# classifier models\n",
    "classifier1 = DecisionTreeClassifier(random_state = 1, max_depth = None)\n",
    "classifier2 = DecisionTreeClassifier(random_state = 1, max_depth = 1)\n",
    "classifier3 = DecisionTreeClassifier(random_state = 1, max_depth = 2)\n",
    "\n",
    "# ensemble of classifiers\n",
    "ensemble_hard = VotingClassifier(estimators = [('classifier1', classifier1), ('classifier2', classifier2), ('classifier3', classifier3)], weights = [1, 1, 1], voting = 'hard')\n",
    "ensemble_soft = VotingClassifier(estimators = [('classifier1', classifier1), ('classifier2', classifier2), ('classifier3', classifier3)], weights = [1, 1, 1], voting = 'soft')\n",
    "\n",
    "classifier1.fit(X = X_class_train, y = y_class_train);\n",
    "classifier2.fit(X = X_class_train, y = y_class_train);\n",
    "classifier3.fit(X = X_class_train, y = y_class_train);\n",
    "ensemble_hard.fit(X = X_class_train, y = y_class_train);\n",
    "ensemble_soft.fit(X = X_class_train, y = y_class_train);"
   ]
  },
  {
   "cell_type": "code",
   "execution_count": 9,
   "id": "17d924d0",
   "metadata": {},
   "outputs": [
    {
     "name": "stdout",
     "output_type": "stream",
     "text": [
      "Feature vector: [5.8 2.7 5.1 1.9], Class: 2\n",
      "Classifier 1 = [2], Classifier 2 = [1], Classifier 3 = [2]\n",
      "Ensemble (hard) = [2]\n",
      "Accuracy -- classifier 1 = 0.9736842105263158\n",
      "Accuracy -- classifier 2 = 0.6578947368421053\n",
      "Accuracy -- classifier 3 = 0.9473684210526315\n",
      "Accuracy -- ensemble (hard) = 0.9736842105263158\n"
     ]
    }
   ],
   "source": [
    "print(f'Feature vector: {X_class_valid[31]}, Class: {y_class_valid[31]}')\n",
    "print(f'Classifier 1 = {classifier1.predict([X_class_valid[31]])}, Classifier 2 = {classifier2.predict([X_class_valid[31]])}, Classifier 3 = {classifier3.predict([X_class_valid[31]])}')\n",
    "print(f'Ensemble (hard) = {ensemble_hard.predict([X_class_valid[31]])}')\n",
    "\n",
    "print(f'Accuracy -- classifier 1 = {classifier1.score(X_class_valid, y_class_valid)}')\n",
    "print(f'Accuracy -- classifier 2 = {classifier2.score(X_class_valid, y_class_valid)}')\n",
    "print(f'Accuracy -- classifier 3 = {classifier3.score(X_class_valid, y_class_valid)}')\n",
    "print(f'Accuracy -- ensemble (hard) = {ensemble_hard.score(X_class_valid, y_class_valid)}')"
   ]
  },
  {
   "cell_type": "code",
   "execution_count": 10,
   "id": "31dc6658",
   "metadata": {},
   "outputs": [
    {
     "name": "stdout",
     "output_type": "stream",
     "text": [
      "Feature vector: [5.8 2.7 5.1 1.9], Class: 2\n",
      "Classifier 1 = [0. 0. 1.], Classifier 2 = [0.  0.5 0.5], Classifier 3 = [0.  0.1 0.9]\n",
      "Ensemble (soft) = [0.  0.2 0.8]\n",
      "Accuracy -- classifier 1 = 0.9736842105263158\n",
      "Accuracy -- classifier 2 = 0.6578947368421053\n",
      "Accuracy -- classifier 3 = 0.9473684210526315\n",
      "Accuracy -- ensemble (hard) = 0.9736842105263158\n"
     ]
    }
   ],
   "source": [
    "print(f'Feature vector: {X_class_valid[31]}, Class: {y_class_valid[31]}')\n",
    "print(f'Classifier 1 = {classifier1.predict_proba([X_class_valid[31]])[0]}, Classifier 2 = {classifier2.predict_proba([X_class_valid[31]])[0]}, Classifier 3 = {classifier3.predict_proba([X_class_valid[31]])[0]}')\n",
    "print(f'Ensemble (soft) = {ensemble_soft.predict_proba([X_class_valid[31]])[0]}')\n",
    "\n",
    "print(f'Accuracy -- classifier 1 = {classifier1.score(X_class_valid, y_class_valid)}')\n",
    "print(f'Accuracy -- classifier 2 = {classifier2.score(X_class_valid, y_class_valid)}')\n",
    "print(f'Accuracy -- classifier 3 = {classifier3.score(X_class_valid, y_class_valid)}')\n",
    "print(f'Accuracy -- ensemble (hard) = {ensemble_soft.score(X_class_valid, y_class_valid)}')"
   ]
  },
  {
   "cell_type": "code",
   "execution_count": 11,
   "id": "a1397362",
   "metadata": {},
   "outputs": [],
   "source": [
    "# regression models\n",
    "regressor1 = DecisionTreeRegressor(random_state = 1, max_depth = None)\n",
    "regressor2 = DecisionTreeRegressor(random_state = 1, max_depth = 1)\n",
    "regressor3 = DecisionTreeRegressor(random_state = 1, max_depth = 2)\n",
    "\n",
    "# ensemble of regressors\n",
    "ensemble_equal_weights = VotingRegressor(estimators = [('regressor1', regressor1), ('regressor2', regressor2), ('regressor3', regressor3)], weights = [1, 1, 1])\n",
    "ensemble_unequal_weights = VotingRegressor(estimators = [('regressor1', regressor1), ('regressor2', regressor2), ('regressor3', regressor3)], weights = [5, 2, 1])\n",
    "\n",
    "regressor1.fit(X = X_regression_train, y = y_regression_train);\n",
    "regressor2.fit(X = X_regression_train, y = y_regression_train);\n",
    "regressor3.fit(X = X_regression_train, y = y_regression_train);\n",
    "ensemble_equal_weights.fit(X = X_regression_train, y = y_regression_train);\n",
    "ensemble_unequal_weights.fit(X = X_regression_train, y = y_regression_train);"
   ]
  },
  {
   "cell_type": "code",
   "execution_count": 12,
   "id": "b056a39b",
   "metadata": {},
   "outputs": [
    {
     "name": "stdout",
     "output_type": "stream",
     "text": [
      "Feature vector: [  3.       2.      40.7773 -73.9532], Target: 3800\n",
      "Regressor 1 = [3800.], Regressor 2 = [5315.39510543], Regressor 3 = [5587.29809763]\n",
      "Ensemble (equal weights) = [4900.89773435]\n",
      "Ensemble (unequal weights) = [4402.26103856]\n",
      "R^2 score -- regressor 1 = 0.8169192047486176\n",
      "R^2 score -- regressor 2 = 0.3951159880255374\n",
      "R^2 score -- regressor 3 = 0.49252838519484055\n",
      "R^2 score -- ensemble (equal weights) = 0.6931598270591892\n",
      "R^2 score -- ensemble (unequal weights) = 0.797543170017368\n"
     ]
    }
   ],
   "source": [
    "print(f'Feature vector: {X_regression_valid[0]}, Target: {y_regression_valid[0]}')\n",
    "print(f'Regressor 1 = {regressor1.predict([X_regression_valid[0]])}, Regressor 2 = {regressor2.predict([X_regression_valid[0]])}, Regressor 3 = {regressor3.predict([X_regression_valid[0]])}')\n",
    "print(f'Ensemble (equal weights) = {ensemble_equal_weights.predict([X_regression_valid[0]])}')\n",
    "print(f'Ensemble (unequal weights) = {ensemble_unequal_weights.predict([X_regression_valid[0]])}')\n",
    "\n",
    "print(f'R^2 score -- regressor 1 = {regressor1.score(X_regression_valid, y_regression_valid)}')\n",
    "print(f'R^2 score -- regressor 2 = {regressor2.score(X_regression_valid, y_regression_valid)}')\n",
    "print(f'R^2 score -- regressor 3 = {regressor3.score(X_regression_valid, y_regression_valid)}')\n",
    "print(f'R^2 score -- ensemble (equal weights) = {ensemble_equal_weights.score(X_regression_valid, y_regression_valid)}')\n",
    "print(f'R^2 score -- ensemble (unequal weights) = {ensemble_unequal_weights.score(X_regression_valid, y_regression_valid)}')"
   ]
  }
 ],
 "metadata": {
  "kernelspec": {
   "display_name": "Python 3 (ipykernel)",
   "language": "python",
   "name": "python3"
  },
  "language_info": {
   "codemirror_mode": {
    "name": "ipython",
    "version": 3
   },
   "file_extension": ".py",
   "mimetype": "text/x-python",
   "name": "python",
   "nbconvert_exporter": "python",
   "pygments_lexer": "ipython3",
   "version": "3.8.10"
  }
 },
 "nbformat": 4,
 "nbformat_minor": 5
}
